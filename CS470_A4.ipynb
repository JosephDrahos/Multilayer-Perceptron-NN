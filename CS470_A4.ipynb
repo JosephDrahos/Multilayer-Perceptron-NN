{
  "nbformat": 4,
  "nbformat_minor": 0,
  "metadata": {
    "colab": {
      "name": "CS470_A4.ipynb",
      "provenance": []
    },
    "kernelspec": {
      "name": "python3",
      "display_name": "Python 3"
    },
    "language_info": {
      "name": "python"
    }
  },
  "cells": [
    {
      "cell_type": "code",
      "metadata": {
        "colab": {
          "base_uri": "https://localhost:8080/"
        },
        "id": "FeA20BZpvJ1G",
        "outputId": "3f63795d-dae4-4e02-c7ed-a23c5fe0b228"
      },
      "source": [
        "# TensorFlow and tf.keras\n",
        "import tensorflow as tf\n",
        "from tensorflow import keras\n",
        "\n",
        "# Helper libraries\n",
        "import numpy as np\n",
        "import matplotlib.pyplot as plt\n",
        "\n",
        "print(tf.__version__)"
      ],
      "execution_count": 2,
      "outputs": [
        {
          "output_type": "stream",
          "name": "stdout",
          "text": [
            "2.6.0\n"
          ]
        }
      ]
    },
    {
      "cell_type": "code",
      "metadata": {
        "id": "X6T67ztHYOfP"
      },
      "source": [
        "plt.figure()\n",
        "plt.imshow(train_images[0], cmap='gray')\n",
        "#plt.colorbar()\n",
        "plt.grid(False)\n",
        "plt.suptitle('First Training Image', fontsize=16)\n",
        "plt.show()\n",
        "print(\"First training label: \", train_labels[0])"
      ],
      "execution_count": null,
      "outputs": []
    },
    {
      "cell_type": "code",
      "metadata": {
        "colab": {
          "base_uri": "https://localhost:8080/"
        },
        "id": "Krt4FxgrvjjG",
        "outputId": "2063a043-cb44-4b8f-ba51-e05855db67f8"
      },
      "source": [
        "# load clothes dataset\n",
        "(train_images, train_labels), (test_images, test_labels) = keras.datasets.fashion_mnist.load_data()\n",
        "\n",
        "print(\"Shape of the training dataset, number of images and resolution:\", train_images.shape)\n",
        "print(\"All distinct training labels:\", np.unique(train_labels))"
      ],
      "execution_count": 3,
      "outputs": [
        {
          "output_type": "stream",
          "name": "stdout",
          "text": [
            "Downloading data from https://storage.googleapis.com/tensorflow/tf-keras-datasets/train-labels-idx1-ubyte.gz\n",
            "32768/29515 [=================================] - 0s 0us/step\n",
            "40960/29515 [=========================================] - 0s 0us/step\n",
            "Downloading data from https://storage.googleapis.com/tensorflow/tf-keras-datasets/train-images-idx3-ubyte.gz\n",
            "26427392/26421880 [==============================] - 0s 0us/step\n",
            "26435584/26421880 [==============================] - 0s 0us/step\n",
            "Downloading data from https://storage.googleapis.com/tensorflow/tf-keras-datasets/t10k-labels-idx1-ubyte.gz\n",
            "16384/5148 [===============================================================================================] - 0s 0us/step\n",
            "Downloading data from https://storage.googleapis.com/tensorflow/tf-keras-datasets/t10k-images-idx3-ubyte.gz\n",
            "4423680/4422102 [==============================] - 0s 0us/step\n",
            "4431872/4422102 [==============================] - 0s 0us/step\n",
            "Shape of the training dataset, number of images and resolution: (60000, 28, 28)\n",
            "All distinct training labels: [0 1 2 3 4 5 6 7 8 9]\n"
          ]
        }
      ]
    },
    {
      "cell_type": "markdown",
      "metadata": {
        "id": "aurtzkwsouJ1"
      },
      "source": [
        ""
      ]
    },
    {
      "cell_type": "code",
      "metadata": {
        "colab": {
          "base_uri": "https://localhost:8080/"
        },
        "id": "YANqzbO7wTch",
        "outputId": "5cd80ece-95bd-4292-dac9-8b62e81047e8"
      },
      "source": [
        "model = keras.Sequential([\n",
        "    keras.layers.Flatten(input_shape=(28, 28)),       #input_shape=(28, 28) for clothes\n",
        "    keras.layers.Dense(128, activation='relu'),\n",
        "    keras.layers.Dense(64, activation='relu'),\n",
        "    keras.layers.Dense(10)\n",
        "])\n",
        "\n",
        "model.compile(optimizer='adam',\n",
        "              loss=tf.keras.losses.SparseCategoricalCrossentropy(from_logits=True),\n",
        "              metrics=['accuracy'])\n",
        "\n",
        "history = model.fit(train_images, train_labels, epochs=10, validation_split=0.1)\n",
        "print(history.history)"
      ],
      "execution_count": null,
      "outputs": [
        {
          "output_type": "stream",
          "name": "stdout",
          "text": [
            "Epoch 1/10\n",
            "1688/1688 [==============================] - 5s 3ms/step - loss: 1.9608 - accuracy: 0.7450 - val_loss: 0.6078 - val_accuracy: 0.7977\n",
            "Epoch 2/10\n",
            "1688/1688 [==============================] - 4s 3ms/step - loss: 0.5767 - accuracy: 0.8094 - val_loss: 0.5823 - val_accuracy: 0.8020\n",
            "Epoch 3/10\n",
            "1688/1688 [==============================] - 4s 2ms/step - loss: 0.5254 - accuracy: 0.8197 - val_loss: 0.6262 - val_accuracy: 0.7818\n",
            "Epoch 4/10\n",
            "1688/1688 [==============================] - 4s 3ms/step - loss: 0.4970 - accuracy: 0.8296 - val_loss: 0.5402 - val_accuracy: 0.8098\n",
            "Epoch 5/10\n",
            "1688/1688 [==============================] - 4s 2ms/step - loss: 0.4679 - accuracy: 0.8375 - val_loss: 0.4874 - val_accuracy: 0.8350\n",
            "Epoch 6/10\n",
            "1688/1688 [==============================] - 4s 3ms/step - loss: 0.4562 - accuracy: 0.8416 - val_loss: 0.4899 - val_accuracy: 0.8317\n",
            "Epoch 7/10\n",
            "1688/1688 [==============================] - 4s 3ms/step - loss: 0.4314 - accuracy: 0.8492 - val_loss: 0.4623 - val_accuracy: 0.8393\n",
            "Epoch 8/10\n",
            "1688/1688 [==============================] - 4s 3ms/step - loss: 0.4170 - accuracy: 0.8515 - val_loss: 0.4602 - val_accuracy: 0.8387\n",
            "Epoch 9/10\n",
            "1688/1688 [==============================] - 4s 3ms/step - loss: 0.4052 - accuracy: 0.8534 - val_loss: 0.4262 - val_accuracy: 0.8517\n",
            "Epoch 10/10\n",
            "1688/1688 [==============================] - 4s 3ms/step - loss: 0.3939 - accuracy: 0.8611 - val_loss: 0.4346 - val_accuracy: 0.8472\n",
            "{'loss': [1.960800290107727, 0.5766898989677429, 0.525409996509552, 0.4970448613166809, 0.46794313192367554, 0.4561504125595093, 0.4314275085926056, 0.4170345664024353, 0.405240535736084, 0.3938918113708496], 'accuracy': [0.7450000047683716, 0.8093518614768982, 0.8197222352027893, 0.8296296000480652, 0.8374814987182617, 0.8415926098823547, 0.8491851687431335, 0.8515370488166809, 0.8534444570541382, 0.8610740900039673], 'val_loss': [0.6077689528465271, 0.5822787284851074, 0.6262141466140747, 0.5401896834373474, 0.4874463975429535, 0.48994776606559753, 0.4623367190361023, 0.46022653579711914, 0.4262089133262634, 0.4345742464065552], 'val_accuracy': [0.7976666688919067, 0.8019999861717224, 0.7818333506584167, 0.8098333477973938, 0.8349999785423279, 0.8316666483879089, 0.8393333554267883, 0.8386666774749756, 0.8516666889190674, 0.8471666574478149]}\n"
          ]
        }
      ]
    },
    {
      "cell_type": "code",
      "metadata": {
        "colab": {
          "base_uri": "https://localhost:8080/"
        },
        "id": "ldsHBWB_zaoX",
        "outputId": "432ee508-925a-4a91-bf25-4345d2a55212"
      },
      "source": [
        "# Evaluate the model on the test data using `evaluate`\n",
        "print(\"Evaluate on test data\")\n",
        "results = model.evaluate(test_images, test_labels, batch_size=128)\n",
        "print(\"test loss, test acc:\", results)\n",
        "# Generate predictions (probabilities -- the output of the last layer)\n",
        "# on new data using `predict`\n",
        "print(\"Generate predictions for 3 samples\")\n",
        "predictions = model.predict(test_images[:3])\n",
        "print(\"predictions shape:\", predictions.shape)"
      ],
      "execution_count": null,
      "outputs": [
        {
          "output_type": "stream",
          "name": "stdout",
          "text": [
            "Evaluate on test data\n",
            "79/79 [==============================] - 0s 2ms/step - loss: 0.4703 - accuracy: 0.8395\n",
            "test loss, test acc: [0.4703132212162018, 0.8395000100135803]\n",
            "Generate predictions for 3 samples\n",
            "predictions shape: (3, 10)\n"
          ]
        }
      ]
    },
    {
      "cell_type": "code",
      "metadata": {
        "colab": {
          "base_uri": "https://localhost:8080/"
        },
        "id": "qUrIIS552KuL",
        "outputId": "9af8a9a2-0937-425b-bb63-38c9ebc908c3"
      },
      "source": [
        "num_layers = [2,3]\n",
        "num_nodes = [64,128]\n",
        "activation_func = [\"sigmoid\", \"relu\"]\n",
        "num_epochs = 10\n",
        "#tr_images = train_images[:1000]\n",
        "#tr_labels = train_labels[:1000]\n",
        "train_results = []\n",
        "\n",
        "for func in activation_func:\n",
        "  for nodes in num_nodes:\n",
        "    for lay in num_layers:\n",
        "      model = keras.Sequential()\n",
        "      model.add(keras.layers.Flatten(input_shape=(28, 28)))\n",
        "      for layer in range(lay):\n",
        "        model.add(keras.layers.Dense(nodes,activation=func)) \n",
        "      model.add(keras.layers.Dense(10))\n",
        "      model.compile(optimizer='adam',\n",
        "              loss=tf.keras.losses.SparseCategoricalCrossentropy(from_logits=True),\n",
        "              metrics=['accuracy'])\n",
        "      print(\"Activation Function: \" + func + \" Number of nodes: \" + str(nodes) + \" Number of hidden layers: \" + str(lay))\n",
        "      history = model.fit(train_images, train_labels, epochs=num_epochs, validation_split=0.1)\n",
        "      train_results.append([history.history[\"val_accuracy\"][num_epochs-1],func, nodes, lay, history.history[\"accuracy\"][num_epochs-1]])\n",
        "      print()\n",
        "\n",
        "print(train_results)\n",
        "max_accuracy = max(train_results)\n",
        "print()\n",
        "print(\"The best hyperparameter combination is -> Activation Function: \" + max_accuracy[1] + \" Number of Nodes: \" + str(max_accuracy[2]) + \" Number of Layers: \" + str(max_accuracy[3]))\n",
        "model = keras.Sequential()\n",
        "model.add(keras.layers.Flatten(input_shape=(28, 28)))\n",
        "for lay in range(max_accuracy[3]):\n",
        "  model.add(keras.layers.Dense(max_accuracy[2],activation=max_accuracy[1])) \n",
        "model.add(keras.layers.Dense(10))\n",
        "model.compile(optimizer='adam',\n",
        "              loss=tf.keras.losses.SparseCategoricalCrossentropy(from_logits=True),\n",
        "              metrics=['accuracy'])      \n",
        "history = model.fit(train_images, train_labels, epochs=num_epochs)     \n",
        "print()\n",
        "# Evaluate the best model on the test data using `evaluate`\n",
        "print(\"Evaluate on test data\")\n",
        "results = model.evaluate(test_images, test_labels, batch_size=128)\n",
        "print(\"test loss, test acc:\", results)\n",
        "# Generate predictions (probabilities -- the output of the last layer)\n",
        "# on new data using `predict`\n",
        "print(\"Generate predictions for 3 samples\")\n",
        "predictions = model.predict(test_images[:3])\n",
        "print(\"predictions shape:\", predictions.shape)\n",
        "\n",
        "\n"
      ],
      "execution_count": null,
      "outputs": [
        {
          "output_type": "stream",
          "name": "stdout",
          "text": [
            "Activation Function: sigmoid Number of nodes: 64 Number of hidden layers: 2\n",
            "Epoch 1/10\n",
            "1688/1688 [==============================] - 4s 2ms/step - loss: 1.0578 - accuracy: 0.6325 - val_loss: 0.7857 - val_accuracy: 0.7175\n",
            "Epoch 2/10\n",
            "1688/1688 [==============================] - 3s 2ms/step - loss: 0.7972 - accuracy: 0.6918 - val_loss: 0.7665 - val_accuracy: 0.7045\n",
            "Epoch 3/10\n",
            "1688/1688 [==============================] - 3s 2ms/step - loss: 0.7531 - accuracy: 0.7040 - val_loss: 0.7836 - val_accuracy: 0.7092\n",
            "Epoch 4/10\n",
            "1688/1688 [==============================] - 3s 2ms/step - loss: 0.7706 - accuracy: 0.7081 - val_loss: 0.7613 - val_accuracy: 0.7053\n",
            "Epoch 5/10\n",
            "1688/1688 [==============================] - 3s 2ms/step - loss: 0.7605 - accuracy: 0.7004 - val_loss: 0.7486 - val_accuracy: 0.7180\n",
            "Epoch 6/10\n",
            "1688/1688 [==============================] - 3s 2ms/step - loss: 0.7395 - accuracy: 0.7084 - val_loss: 0.7227 - val_accuracy: 0.7060\n",
            "Epoch 7/10\n",
            " 640/1688 [==========>...................] - ETA: 1s - loss: 0.7519 - accuracy: 0.7186"
          ]
        }
      ]
    },
    {
      "cell_type": "code",
      "metadata": {
        "colab": {
          "base_uri": "https://localhost:8080/",
          "height": 404
        },
        "id": "iLjqgduBYZJv",
        "outputId": "5c8a822a-b24a-458f-eec8-b6932248ad7b"
      },
      "source": [
        "y1 = []\n",
        "y2 = []\n",
        "for i in train_results:\n",
        "  y1.append(i[0])\n",
        "  y2.append(i[4])\n",
        "\n",
        "y1 = np.asarray(y1)\n",
        "y2 = np.asarray(y2)\n",
        "x = np.arange(1,9)\n",
        "\n",
        "fig = plt.figure(figsize=(12,6))\n",
        "ax = fig.add_subplot(\"121\")\n",
        "ax.set_title(\"Test Accuracy\")\n",
        "ax.set_xlabel(\"Hyperparamter Combination\")\n",
        "ax.set_ylabel(\"Testing Accuracy\")\n",
        "ax.plot(x,y2)\n",
        "ax = fig.add_subplot(\"122\")\n",
        "ax.set_title(\"Validation Accuracy\")\n",
        "ax.set_xlabel(\"Hyperparamter Combination\")\n",
        "ax.set_ylabel(\"Validation Accuracy\")\n",
        "ax.plot(x,y1)\n",
        "\n",
        "plt.show()"
      ],
      "execution_count": 43,
      "outputs": [
        {
          "output_type": "display_data",
          "data": {
            "image/png": "[encoded data removed]",
            "text/plain": [
              "<Figure size 864x432 with 2 Axes>"
            ]
          },
          "metadata": {
            "needs_background": "light"
          }
        }
      ]
    }
  ]
}